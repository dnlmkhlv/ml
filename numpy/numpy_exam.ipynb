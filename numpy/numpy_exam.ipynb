{
 "cells": [
  {
   "cell_type": "markdown",
   "id": "8c549c9e",
   "metadata": {},
   "source": [
    "## 🧠 **NumPy Exam — 10 Coding Questions**\n",
    "\n",
    "⚡ **JUNIOR ML ENGINEER LEVEL**\n",
    "\n",
    "\n",
    "> **Instructions:**\n",
    "> Use only NumPy (no pure Python loops unless specified).\n",
    "> You can import as:\n",
    ">\n",
    "> ```python\n",
    "> import numpy as np\n",
    "> ```\n",
    "\n",
    "---\n",
    "\n",
    "### **1️⃣ Create an array**\n",
    "\n",
    "Create a 2D NumPy array with **3 rows** and **4 columns**, filled with **random floats between 10 and 20**.\n",
    "\n",
    "---\n",
    "\n",
    "### **2️⃣ Array properties**\n",
    "\n",
    "Given:\n",
    "\n",
    "```python\n",
    "a = np.array([[1, 2, 3], [4, 5, 6]])\n",
    "```\n",
    "\n",
    "Write code to print:\n",
    "\n",
    "* The number of dimensions\n",
    "* The shape\n",
    "* The data type\n",
    "\n",
    "---\n",
    "\n",
    "### **3️⃣ Reshaping**\n",
    "\n",
    "Using:\n",
    "\n",
    "```python\n",
    "a = np.arange(12)\n",
    "```\n",
    "\n",
    "Reshape `a` into a 3×4 matrix.\n",
    "\n",
    "---\n",
    "\n",
    "### **4️⃣ Indexing and slicing**\n",
    "\n",
    "Given:\n",
    "\n",
    "```python\n",
    "a = np.array([[10, 20, 30, 40],\n",
    "              [50, 60, 70, 80],\n",
    "              [90, 100, 110, 120]])\n",
    "```\n",
    "\n",
    "Extract:\n",
    "\n",
    "* The **second row**\n",
    "* The **first column**\n",
    "* The **sub-matrix** containing the middle 2×2 block (`[[60,70],[100,110]]`)\n",
    "\n",
    "---\n",
    "\n",
    "### **5️⃣ Conditional selection**\n",
    "\n",
    "Given:\n",
    "\n",
    "```python\n",
    "a = np.array([12, 5, 8, 22, 17, 3, 10])\n",
    "```\n",
    "\n",
    "Select all elements **greater than 10**, and return them as a new array.\n",
    "\n",
    "---\n",
    "\n",
    "### **6️⃣ Broadcasting**\n",
    "\n",
    "Create:\n",
    "\n",
    "```python\n",
    "a = np.array([[1, 2, 3],\n",
    "              [4, 5, 6]])\n",
    "b = np.array([10, 20, 30])\n",
    "```\n",
    "\n",
    "Add `b` to `a` using broadcasting (no loops).\n",
    "\n",
    "---\n",
    "\n",
    "### **7️⃣ Axis operations**\n",
    "\n",
    "Given:\n",
    "\n",
    "```python\n",
    "a = np.array([[1, 2, 3],\n",
    "              [4, 5, 6]])\n",
    "```\n",
    "\n",
    "Compute:\n",
    "\n",
    "* The sum of all elements\n",
    "* The mean **along axis=0**\n",
    "* The max **along axis=1**\n",
    "\n",
    "---\n",
    "\n",
    "### **8️⃣ Boolean masking**\n",
    "\n",
    "Given:\n",
    "\n",
    "```python\n",
    "a = np.array([5, 10, 15, 20, 25, 30])\n",
    "```\n",
    "\n",
    "Replace all elements **greater than 15** with **0**.\n",
    "\n",
    "---\n",
    "\n",
    "### **9️⃣ Linear algebra**\n",
    "\n",
    "Create a 2×2 matrix:\n",
    "\n",
    "```python\n",
    "A = np.array([[2, 1],\n",
    "              [5, 3]])\n",
    "```\n",
    "\n",
    "Find:\n",
    "\n",
    "* The determinant\n",
    "* The inverse\n",
    "* Verify that `A @ A_inv` is (approximately) the identity matrix.\n",
    "\n",
    "---\n",
    "\n",
    "### **🔟 Combine & flatten**\n",
    "\n",
    "Given:\n",
    "\n",
    "```python\n",
    "a = np.array([[1, 2], [3, 4]])\n",
    "b = np.array([[5, 6]])\n",
    "```\n",
    "\n",
    "1. Stack them vertically into one array\n",
    "2. Flatten the result into a 1D array\n",
    "\n",
    "---\n",
    "\n",
    "### 💯 **Bonus (optional):**\n",
    "\n",
    "Without using loops, create a 5×5 identity matrix and set the **main diagonal** to 7 instead of 1.\n",
    "\n",
    "---\n"
   ]
  },
  {
   "cell_type": "markdown",
   "id": "d13e70f1",
   "metadata": {},
   "source": [
    "## Solutions"
   ]
  },
  {
   "cell_type": "code",
   "execution_count": 1,
   "id": "e2af4b4e",
   "metadata": {},
   "outputs": [],
   "source": [
    "import numpy as np"
   ]
  },
  {
   "cell_type": "markdown",
   "id": "99600513",
   "metadata": {},
   "source": [
    "### 1. ✅\n",
    "\n",
    "Create a 2D NumPy array with **3 rows** and **4 columns**, filled with **random floats between 10 and 20**."
   ]
  },
  {
   "cell_type": "code",
   "execution_count": 17,
   "id": "e77b8e82",
   "metadata": {},
   "outputs": [],
   "source": [
    "arr = np.random.uniform(low=10.0, high=20.0, size=(3,4))"
   ]
  },
  {
   "cell_type": "code",
   "execution_count": 18,
   "id": "d9ebf39c",
   "metadata": {},
   "outputs": [
    {
     "data": {
      "text/plain": [
       "array([[13.15677539, 14.56598204, 18.47711086, 11.83829081],\n",
       "       [17.06426613, 19.04436331, 13.67756155, 16.04996673],\n",
       "       [18.6129718 , 19.05755631, 11.82713703, 16.75445731]])"
      ]
     },
     "execution_count": 18,
     "metadata": {},
     "output_type": "execute_result"
    }
   ],
   "source": [
    "arr"
   ]
  },
  {
   "cell_type": "markdown",
   "id": "5ffcdeb0",
   "metadata": {},
   "source": [
    "### 2. ✅\n",
    "\n",
    "Given:\n",
    "\n",
    "```python\n",
    "a = np.array([[1, 2, 3], [4, 5, 6]])\n",
    "```\n",
    "\n",
    "Write code to print:\n",
    "\n",
    "* The number of dimensions\n",
    "* The shape\n",
    "* The data type"
   ]
  },
  {
   "cell_type": "code",
   "execution_count": 22,
   "id": "351e7615",
   "metadata": {},
   "outputs": [
    {
     "name": "stdout",
     "output_type": "stream",
     "text": [
      "2\n",
      "(2, 3)\n",
      "int32\n"
     ]
    }
   ],
   "source": [
    "a = np.array([[1, 2, 3], [4, 5, 6]])\n",
    "\n",
    "print(a.ndim)\n",
    "print(a.shape)\n",
    "print(a.dtype)"
   ]
  },
  {
   "cell_type": "markdown",
   "id": "39368375",
   "metadata": {},
   "source": [
    "### 3. ✅\n",
    "\n",
    "Using:\n",
    "\n",
    "```python\n",
    "a = np.arange(12)\n",
    "```\n",
    "\n",
    "Reshape `a` into a 3×4 matrix."
   ]
  },
  {
   "cell_type": "code",
   "execution_count": 25,
   "id": "191a4c21",
   "metadata": {},
   "outputs": [
    {
     "data": {
      "text/plain": [
       "array([ 0,  1,  2,  3,  4,  5,  6,  7,  8,  9, 10, 11])"
      ]
     },
     "execution_count": 25,
     "metadata": {},
     "output_type": "execute_result"
    }
   ],
   "source": [
    "a = np.arange(12)\n",
    "a"
   ]
  },
  {
   "cell_type": "code",
   "execution_count": 26,
   "id": "dcedb497",
   "metadata": {},
   "outputs": [
    {
     "data": {
      "text/plain": [
       "array([[ 0,  1,  2,  3],\n",
       "       [ 4,  5,  6,  7],\n",
       "       [ 8,  9, 10, 11]])"
      ]
     },
     "execution_count": 26,
     "metadata": {},
     "output_type": "execute_result"
    }
   ],
   "source": [
    "a.reshape(3, 4)"
   ]
  },
  {
   "cell_type": "markdown",
   "id": "0886d873",
   "metadata": {},
   "source": [
    "### 4. ✅\n",
    "\n",
    "Given:\n",
    "\n",
    "```python\n",
    "a = np.array([[10, 20, 30, 40],\n",
    "              [50, 60, 70, 80],\n",
    "              [90, 100, 110, 120]])\n",
    "```\n",
    "\n",
    "Extract:\n",
    "\n",
    "* The **second row**\n",
    "* The **first column**\n",
    "* The **sub-matrix** containing the middle 2×2 block (`[[60,70],[100,110]]`)"
   ]
  },
  {
   "cell_type": "code",
   "execution_count": 31,
   "id": "7704522d",
   "metadata": {},
   "outputs": [
    {
     "name": "stdout",
     "output_type": "stream",
     "text": [
      "[50 60 70 80]\n",
      "[10 50 90]\n",
      "[[ 60  70]\n",
      " [100 110]]\n"
     ]
    }
   ],
   "source": [
    "a = np.array([[10, 20, 30, 40],\n",
    "              [50, 60, 70, 80],\n",
    "              [90, 100, 110, 120]])\n",
    "\n",
    "print(a[1])\n",
    "print(a[:, 0])\n",
    "print(a[1:, 1:3])"
   ]
  },
  {
   "cell_type": "markdown",
   "id": "3731819e",
   "metadata": {},
   "source": [
    "### 5. ✅\n",
    "\n",
    "Given:\n",
    "\n",
    "```python\n",
    "a = np.array([12, 5, 8, 22, 17, 3, 10])\n",
    "```\n",
    "\n",
    "Select all elements **greater than 10**, and return them as a new array."
   ]
  },
  {
   "cell_type": "code",
   "execution_count": 32,
   "id": "c45e00d8",
   "metadata": {},
   "outputs": [],
   "source": [
    "a = np.array([12, 5, 8, 22, 17, 3, 10])\n",
    "\n",
    "b = a[a > 10]"
   ]
  },
  {
   "cell_type": "code",
   "execution_count": 33,
   "id": "9fd5b505",
   "metadata": {},
   "outputs": [
    {
     "data": {
      "text/plain": [
       "array([12, 22, 17])"
      ]
     },
     "execution_count": 33,
     "metadata": {},
     "output_type": "execute_result"
    }
   ],
   "source": [
    "b"
   ]
  },
  {
   "cell_type": "markdown",
   "id": "6b21b328",
   "metadata": {},
   "source": [
    "### 6. ✅\n",
    "\n",
    "Create:\n",
    "\n",
    "```python\n",
    "a = np.array([[1, 2, 3],\n",
    "              [4, 5, 6]])\n",
    "b = np.array([10, 20, 30])\n",
    "```\n",
    "\n",
    "Add `b` to `a` using broadcasting (no loops)."
   ]
  },
  {
   "cell_type": "code",
   "execution_count": 34,
   "id": "85fe78ae",
   "metadata": {},
   "outputs": [
    {
     "name": "stdout",
     "output_type": "stream",
     "text": [
      "[[11 22 33]\n",
      " [14 25 36]]\n"
     ]
    }
   ],
   "source": [
    "a = np.array([[1, 2, 3],\n",
    "              [4, 5, 6]])\n",
    "b = np.array([10, 20, 30])\n",
    "\n",
    "c =  np.add(a, b)\n",
    "\n",
    "print(c)"
   ]
  },
  {
   "cell_type": "markdown",
   "id": "3d5c5401",
   "metadata": {},
   "source": [
    "### 7. ✅\n",
    "\n",
    "Given:\n",
    "\n",
    "```python\n",
    "a = np.array([[1, 2, 3],\n",
    "              [4, 5, 6]])\n",
    "```\n",
    "\n",
    "Compute:\n",
    "\n",
    "* The sum of all elements\n",
    "* The mean **along axis=0**\n",
    "* The max **along axis=1**"
   ]
  },
  {
   "cell_type": "code",
   "execution_count": 36,
   "id": "ca304e6e",
   "metadata": {},
   "outputs": [
    {
     "name": "stdout",
     "output_type": "stream",
     "text": [
      "21\n",
      "[2.5 3.5 4.5]\n",
      "[3 6]\n"
     ]
    }
   ],
   "source": [
    "a = np.array([[1, 2, 3],\n",
    "              [4, 5, 6]])\n",
    "\n",
    "print(a.sum())\n",
    "print(a.mean(axis=0))\n",
    "print(a.max(axis=1))"
   ]
  },
  {
   "cell_type": "markdown",
   "id": "15498ffa",
   "metadata": {},
   "source": [
    "### 8. ✅ \n",
    "\n",
    "Given:\n",
    "\n",
    "```python\n",
    "a = np.array([5, 10, 15, 20, 25, 30])\n",
    "```\n",
    "\n",
    "Replace all elements **greater than 15** with **0**."
   ]
  },
  {
   "cell_type": "code",
   "execution_count": 37,
   "id": "2b2a7a73",
   "metadata": {},
   "outputs": [
    {
     "name": "stdout",
     "output_type": "stream",
     "text": [
      "[ 5 10 15  0  0  0]\n"
     ]
    }
   ],
   "source": [
    "a = np.array([5, 10, 15, 20, 25, 30])\n",
    "\n",
    "a[a > 15] = 0\n",
    "\n",
    "print(a)"
   ]
  },
  {
   "cell_type": "markdown",
   "id": "fc9944c2",
   "metadata": {},
   "source": [
    "### 9. ✅\n",
    "\n",
    "Create a 2×2 matrix:\n",
    "\n",
    "```python\n",
    "A = np.array([[2, 1],\n",
    "              [5, 3]])\n",
    "```\n",
    "\n",
    "Find:\n",
    "\n",
    "* The determinant\n",
    "* The inverse\n",
    "* Verify that `A @ A_inv` is (approximately) the identity matrix."
   ]
  },
  {
   "cell_type": "code",
   "execution_count": 41,
   "id": "72b4b5c4",
   "metadata": {},
   "outputs": [
    {
     "name": "stdout",
     "output_type": "stream",
     "text": [
      "det(A) =  1\n",
      "det(A) =  1.0000000000000009\n"
     ]
    }
   ],
   "source": [
    "A = np.array([[2, 1],\n",
    "              [5, 3]])\n",
    "\n",
    "print(\"det(A) = \", (A[0, 0] * A[1, 1]) - (A[0, 1] * A[1, 0]))\n",
    "print(\"det(A) = \", np.linalg.det(A))"
   ]
  },
  {
   "cell_type": "code",
   "execution_count": 43,
   "id": "f9ed0863",
   "metadata": {},
   "outputs": [
    {
     "name": "stdout",
     "output_type": "stream",
     "text": [
      "A =\n",
      " [[2 1]\n",
      " [5 3]]\n",
      "det(A) = 1.0000000000000009\n",
      "A_inv =\n",
      " [[ 3. -1.]\n",
      " [-5.  2.]]\n",
      "A @ A_inv =\n",
      " [[ 1.00000000e+00  2.22044605e-16]\n",
      " [-8.88178420e-16  1.00000000e+00]]\n",
      "Is identity (within tolerance)? True\n"
     ]
    }
   ],
   "source": [
    "# 1) Determinant\n",
    "detA = np.linalg.det(A)\n",
    "\n",
    "# 2) Inverse\n",
    "A_inv = np.linalg.inv(A)\n",
    "\n",
    "# 3) Verify A @ A_inv ≈ I\n",
    "I_approx = A @ A_inv\n",
    "is_identity = np.allclose(I_approx, np.eye(2))  # tolerates tiny float errors\n",
    "\n",
    "print(\"A =\\n\", A)\n",
    "print(\"det(A) =\", detA)\n",
    "print(\"A_inv =\\n\", A_inv)\n",
    "print(\"A @ A_inv =\\n\", I_approx)\n",
    "print(\"Is identity (within tolerance)?\", is_identity)"
   ]
  },
  {
   "cell_type": "markdown",
   "id": "2925a31f",
   "metadata": {},
   "source": [
    "### 10. ✅ \n",
    "\n",
    "Given:\n",
    "\n",
    "```python\n",
    "a = np.array([[1, 2], [3, 4]])\n",
    "b = np.array([[5, 6]])\n",
    "```\n",
    "\n",
    "1. Stack them vertically into one array\n",
    "2. Flatten the result into a 1D array"
   ]
  },
  {
   "cell_type": "code",
   "execution_count": 48,
   "id": "ab000df4",
   "metadata": {},
   "outputs": [
    {
     "name": "stdout",
     "output_type": "stream",
     "text": [
      "[[1 2]\n",
      " [3 4]\n",
      " [5 6]]\n",
      "[1 2 3 4 5 6]\n"
     ]
    }
   ],
   "source": [
    "a = np.array([[1, 2], [3, 4]])\n",
    "b = np.array([[5, 6]])\n",
    "\n",
    "c = np.vstack((a, b))\n",
    "print(c)\n",
    "\n",
    "d = c.flatten()\n",
    "print(d)\n"
   ]
  },
  {
   "cell_type": "markdown",
   "id": "d568d0a2",
   "metadata": {},
   "source": [
    "### Bonus.\n",
    "\n",
    "Without using loops, create a 5×5 identity matrix and set the **main diagonal** to 7 instead of 1."
   ]
  },
  {
   "cell_type": "code",
   "execution_count": 49,
   "id": "2ee30d80",
   "metadata": {},
   "outputs": [
    {
     "name": "stdout",
     "output_type": "stream",
     "text": [
      "[[7. 0. 0. 0. 0.]\n",
      " [0. 7. 0. 0. 0.]\n",
      " [0. 0. 7. 0. 0.]\n",
      " [0. 0. 0. 7. 0.]\n",
      " [0. 0. 0. 0. 7.]]\n"
     ]
    }
   ],
   "source": [
    "# Create a 5x5 identity matrix\n",
    "I = np.eye(5)\n",
    "\n",
    "# Multiply the main diagonal by 7\n",
    "I *= 7\n",
    "\n",
    "print(I)"
   ]
  }
 ],
 "metadata": {
  "kernelspec": {
   "display_name": "Python 3",
   "language": "python",
   "name": "python3"
  },
  "language_info": {
   "codemirror_mode": {
    "name": "ipython",
    "version": 3
   },
   "file_extension": ".py",
   "mimetype": "text/x-python",
   "name": "python",
   "nbconvert_exporter": "python",
   "pygments_lexer": "ipython3",
   "version": "3.10.0"
  }
 },
 "nbformat": 4,
 "nbformat_minor": 5
}
