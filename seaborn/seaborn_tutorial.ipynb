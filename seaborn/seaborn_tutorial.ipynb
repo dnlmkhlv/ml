{
 "cells": [
  {
   "cell_type": "markdown",
   "id": "d038c424",
   "metadata": {},
   "source": [
    "# Seaborn Tutorial"
   ]
  },
  {
   "cell_type": "markdown",
   "id": "251bd094",
   "metadata": {},
   "source": [
    "Seaborn is a library for making informative and attractive statistical graphics in Python. It builds on top of matplotlib and integrates closely with pandas data structures"
   ]
  },
  {
   "cell_type": "code",
   "execution_count": null,
   "id": "f14653cd",
   "metadata": {},
   "outputs": [],
   "source": []
  }
 ],
 "metadata": {
  "language_info": {
   "name": "python"
  }
 },
 "nbformat": 4,
 "nbformat_minor": 5
}
