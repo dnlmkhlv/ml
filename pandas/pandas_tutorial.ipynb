{
 "cells": [
  {
   "cell_type": "markdown",
   "id": "20c8f863",
   "metadata": {},
   "source": [
    "# Pandas Tutorial"
   ]
  }
 ],
 "metadata": {
  "language_info": {
   "name": "python"
  }
 },
 "nbformat": 4,
 "nbformat_minor": 5
}
